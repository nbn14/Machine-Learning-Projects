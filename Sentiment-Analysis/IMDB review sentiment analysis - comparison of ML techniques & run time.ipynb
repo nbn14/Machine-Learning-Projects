{
 "cells": [
  {
   "cell_type": "markdown",
   "metadata": {},
   "source": [
    "### Problem statement and description\n",
    "- The analysis aims to predict whether a reviewer is more likely to give a movie a good rating (>= 6 stars) or a bad one (<= 5 stars) based on the content of the review\n",
    "- The project uses imdb dataset available @ ai.standford.edu/~amaas/data/sentiment\n",
    "- The project looks at:\n",
    "    - 50,000 reviews \n",
    "    - Compare the classification of good (positive) / bad (negative) review using various ML techniques\n",
    "    - Implement out-of-core learning to reduce run time "
   ]
  },
  {
   "cell_type": "markdown",
   "metadata": {},
   "source": [
    "### Project pipeline\n",
    "- Collect data\n",
    "- EDA\n",
    "- Clean text\n",
    "- Preprocess text (tokenisation / vectorisation)\n",
    "- Model selection and hyperparameter turning (GridSearch CV & Logistic Regression)\n",
    "- Improve model run time by using out-of-core learning in combination with online algorithm (Minibatch run + Hashvectorisation + partial_fit)\n",
    "- Model evaluation"
   ]
  },
  {
   "cell_type": "markdown",
   "metadata": {},
   "source": [
    "### Import all python packages "
   ]
  },
  {
   "cell_type": "code",
   "execution_count": null,
   "metadata": {},
   "outputs": [],
   "source": [
    "###### Import missing / required python packages\n",
    "# import sys\n",
    "# !{sys.executable} -m pip install pyprind"
   ]
  },
  {
   "cell_type": "code",
   "execution_count": 204,
   "metadata": {},
   "outputs": [],
   "source": [
    "import pyprind\n",
    "import pandas as pd\n",
    "import numpy as np\n",
    "import matplotlib.pyplot as plt\n",
    "import os\n",
    "import re\n",
    "import time\n",
    "from matplotlib import rcParams\n",
    "\n",
    "#### Packages for words processing\n",
    "# import nltk\n",
    "# nltk.download(\"stopwords\")\n",
    "from nltk.stem.porter import PorterStemmer\n",
    "from nltk.stem import WordNetLemmatizer\n",
    "from nltk.corpus import stopwords\n",
    "#### Packages for vectoring tokens\n",
    "from sklearn.feature_extraction.text import TfidfVectorizer\n",
    "from sklearn.feature_extraction.text import HashingVectorizer\n",
    "#### Packages used for processing ML\n",
    "from sklearn.model_selection import train_test_split\n",
    "from sklearn.model_selection import GridSearchCV\n",
    "from sklearn.pipeline import Pipeline\n",
    "from sklearn.model_selection import KFold\n",
    "#### Packages used for algorithm\n",
    "from sklearn.linear_model import LogisticRegression\n",
    "from sklearn.svm import SVC \n",
    "#### Packages supporting online learning (partial_fit)\n",
    "from sklearn.linear_model import SGDClassifier\n",
    "from sklearn.linear_model import PassiveAggressiveClassifier\n",
    "from sklearn.linear_model import Perceptron\n",
    "from sklearn.naive_bayes import MultinomialNB"
   ]
  },
  {
   "cell_type": "code",
   "execution_count": 4,
   "metadata": {},
   "outputs": [
    {
     "name": "stderr",
     "output_type": "stream",
     "text": [
      "0% [##############################] 100% | ETA: 00:00:00\n",
      "Total time elapsed: 00:04:25\n"
     ]
    }
   ],
   "source": [
    "###### Importing data from zip file @ ai.standford.edu/~amaas/data/sentiment\n",
    "pbar = pyprind.ProgBar(50000)  #### 50000 is the number of documents to be read\n",
    "label={\"pos\":1,\"neg\":0}  ### labeling sentiment of reviews\n",
    "df = pd.DataFrame()\n",
    "for s in (\"test\",\"train\"):\n",
    "    for l in (\"pos\",\"neg\"):\n",
    "        path=\"./aclImdb/%s/%s\" % (s,l)\n",
    "        for file in os.listdir(path):\n",
    "            with open(os.path.join(path,file),\"r\",encoding=\"utf8\") as infile:\n",
    "                txt = infile.read()\n",
    "                df = df.append([[txt,label[l]]],ignore_index=True)\n",
    "                pbar.update()\n",
    "df.columns =[\"review\",\"sentiment\"]"
   ]
  },
  {
   "cell_type": "code",
   "execution_count": 5,
   "metadata": {},
   "outputs": [],
   "source": [
    "# ###### Reshuffle all the samples\n",
    "np.random.seed(0)\n",
    "df=df.reindex(np.random.permutation(df.index))\n",
    "df.to_csv(\"./movie_data.csv\",index=False)  \n",
    "df = pd.read_csv(\"movie_data.csv\")"
   ]
  },
  {
   "cell_type": "markdown",
   "metadata": {},
   "source": [
    "### Exploratory Data Analysis"
   ]
  },
  {
   "cell_type": "code",
   "execution_count": 6,
   "metadata": {},
   "outputs": [
    {
     "data": {
      "text/html": [
       "<div>\n",
       "<style scoped>\n",
       "    .dataframe tbody tr th:only-of-type {\n",
       "        vertical-align: middle;\n",
       "    }\n",
       "\n",
       "    .dataframe tbody tr th {\n",
       "        vertical-align: top;\n",
       "    }\n",
       "\n",
       "    .dataframe thead th {\n",
       "        text-align: right;\n",
       "    }\n",
       "</style>\n",
       "<table border=\"1\" class=\"dataframe\">\n",
       "  <thead>\n",
       "    <tr style=\"text-align: right;\">\n",
       "      <th></th>\n",
       "      <th>review</th>\n",
       "      <th>sentiment</th>\n",
       "    </tr>\n",
       "  </thead>\n",
       "  <tbody>\n",
       "    <tr>\n",
       "      <th>0</th>\n",
       "      <td>Some things need to be clarified. The picture ...</td>\n",
       "      <td>0</td>\n",
       "    </tr>\n",
       "    <tr>\n",
       "      <th>1</th>\n",
       "      <td>I don't know why the critics trashed this movi...</td>\n",
       "      <td>1</td>\n",
       "    </tr>\n",
       "    <tr>\n",
       "      <th>2</th>\n",
       "      <td>This is quite an amazing film to watch. Using ...</td>\n",
       "      <td>1</td>\n",
       "    </tr>\n",
       "    <tr>\n",
       "      <th>3</th>\n",
       "      <td>This is one of those films you can have on for...</td>\n",
       "      <td>0</td>\n",
       "    </tr>\n",
       "    <tr>\n",
       "      <th>4</th>\n",
       "      <td>I wasn't quite sure if this was just going to ...</td>\n",
       "      <td>1</td>\n",
       "    </tr>\n",
       "  </tbody>\n",
       "</table>\n",
       "</div>"
      ],
      "text/plain": [
       "                                              review  sentiment\n",
       "0  Some things need to be clarified. The picture ...          0\n",
       "1  I don't know why the critics trashed this movi...          1\n",
       "2  This is quite an amazing film to watch. Using ...          1\n",
       "3  This is one of those films you can have on for...          0\n",
       "4  I wasn't quite sure if this was just going to ...          1"
      ]
     },
     "execution_count": 6,
     "metadata": {},
     "output_type": "execute_result"
    }
   ],
   "source": [
    "df.head(5)"
   ]
  },
  {
   "cell_type": "code",
   "execution_count": 7,
   "metadata": {},
   "outputs": [
    {
     "data": {
      "text/plain": [
       "(50000, 2)"
      ]
     },
     "execution_count": 7,
     "metadata": {},
     "output_type": "execute_result"
    }
   ],
   "source": [
    "df.shape"
   ]
  },
  {
   "cell_type": "code",
   "execution_count": 8,
   "metadata": {},
   "outputs": [
    {
     "data": {
      "text/plain": [
       "0    25000\n",
       "1    25000\n",
       "Name: sentiment, dtype: int64"
      ]
     },
     "execution_count": 8,
     "metadata": {},
     "output_type": "execute_result"
    }
   ],
   "source": [
    "df[\"sentiment\"].value_counts()  #### No issues with imbalanced data"
   ]
  },
  {
   "cell_type": "markdown",
   "metadata": {},
   "source": [
    "### Cleaning text data\n",
    "- removing html markers\n",
    "- turn all into lower case\n",
    "- emoji clean up"
   ]
  },
  {
   "cell_type": "code",
   "execution_count": 9,
   "metadata": {},
   "outputs": [],
   "source": [
    "def preprocessor_v1(text):\n",
    "    text=re.sub('<[^>]*>',\"\",text)    ##### Replace HTML markups with empty string\n",
    "    emoticons = re.findall(\"(?::|;|=)(?:-)?(?:\\)|\\(|D|P)\",text)\n",
    "    #### Removing all non-word characters, turn into lower case, add the emoticons at the end (- removing the nose (-) character)\n",
    "    #### Adding emojis at the end not the most elegant approach but for 1-word token or (1 gram), order of words does not matter\n",
    "    text=re.sub('[\\W]+', ' ',text.lower()) +\"\".join(emoticons).replace(\"-\",\"\")\n",
    "    return text"
   ]
  },
  {
   "cell_type": "code",
   "execution_count": 10,
   "metadata": {},
   "outputs": [],
   "source": [
    "##### Check on examples of reviews\n",
    "example1 = df[\"review\"][10]\n",
    "example1,clean_ex= example1, preprocessor_v1(example1)"
   ]
  },
  {
   "cell_type": "code",
   "execution_count": 11,
   "metadata": {},
   "outputs": [
    {
     "data": {
      "text/plain": [
       "\"I thought maybe a film which boasted a cast including Peter O'Toole, Susannah York, Michael Craig & Harry Andrews might be worth watching. Alas, I was wrong. Utter pretentious nonsense from beginning to end with both O'Toole and York overacting wildly. I watched it twice and still have no idea what is was about. I've a feeling O'Toole plays the Laird of a Scottish castle who has a drink problem and likes reliving childhood games with his sister (York). He is also barking mad. But apart from that, your guess is as good as mine.<br /><br />The film has no redeeming feature whatsoever. I can only assume the cast and director were blackmailed into making this dreary, unimaginative, stagy piffle. Clearly a waste of the time of a talented cast and director. Risible.\""
      ]
     },
     "execution_count": 11,
     "metadata": {},
     "output_type": "execute_result"
    }
   ],
   "source": [
    "example1"
   ]
  },
  {
   "cell_type": "code",
   "execution_count": 12,
   "metadata": {},
   "outputs": [
    {
     "data": {
      "text/plain": [
       "'i thought maybe a film which boasted a cast including peter o toole susannah york michael craig harry andrews might be worth watching alas i was wrong utter pretentious nonsense from beginning to end with both o toole and york overacting wildly i watched it twice and still have no idea what is was about i ve a feeling o toole plays the laird of a scottish castle who has a drink problem and likes reliving childhood games with his sister york he is also barking mad but apart from that your guess is as good as mine the film has no redeeming feature whatsoever i can only assume the cast and director were blackmailed into making this dreary unimaginative stagy piffle clearly a waste of the time of a talented cast and director risible '"
      ]
     },
     "execution_count": 12,
     "metadata": {},
     "output_type": "execute_result"
    }
   ],
   "source": [
    "clean_ex"
   ]
  },
  {
   "cell_type": "code",
   "execution_count": 13,
   "metadata": {},
   "outputs": [],
   "source": [
    "df[\"review\"] = df[\"review\"].apply(preprocessor_v1)"
   ]
  },
  {
   "cell_type": "code",
   "execution_count": 14,
   "metadata": {},
   "outputs": [
    {
     "data": {
      "text/html": [
       "<div>\n",
       "<style scoped>\n",
       "    .dataframe tbody tr th:only-of-type {\n",
       "        vertical-align: middle;\n",
       "    }\n",
       "\n",
       "    .dataframe tbody tr th {\n",
       "        vertical-align: top;\n",
       "    }\n",
       "\n",
       "    .dataframe thead th {\n",
       "        text-align: right;\n",
       "    }\n",
       "</style>\n",
       "<table border=\"1\" class=\"dataframe\">\n",
       "  <thead>\n",
       "    <tr style=\"text-align: right;\">\n",
       "      <th></th>\n",
       "      <th>review</th>\n",
       "      <th>sentiment</th>\n",
       "    </tr>\n",
       "  </thead>\n",
       "  <tbody>\n",
       "    <tr>\n",
       "      <th>0</th>\n",
       "      <td>some things need to be clarified the picture o...</td>\n",
       "      <td>0</td>\n",
       "    </tr>\n",
       "    <tr>\n",
       "      <th>1</th>\n",
       "      <td>i don t know why the critics trashed this movi...</td>\n",
       "      <td>1</td>\n",
       "    </tr>\n",
       "    <tr>\n",
       "      <th>2</th>\n",
       "      <td>this is quite an amazing film to watch using d...</td>\n",
       "      <td>1</td>\n",
       "    </tr>\n",
       "    <tr>\n",
       "      <th>3</th>\n",
       "      <td>this is one of those films you can have on for...</td>\n",
       "      <td>0</td>\n",
       "    </tr>\n",
       "    <tr>\n",
       "      <th>4</th>\n",
       "      <td>i wasn t quite sure if this was just going to ...</td>\n",
       "      <td>1</td>\n",
       "    </tr>\n",
       "  </tbody>\n",
       "</table>\n",
       "</div>"
      ],
      "text/plain": [
       "                                              review  sentiment\n",
       "0  some things need to be clarified the picture o...          0\n",
       "1  i don t know why the critics trashed this movi...          1\n",
       "2  this is quite an amazing film to watch using d...          1\n",
       "3  this is one of those films you can have on for...          0\n",
       "4  i wasn t quite sure if this was just going to ...          1"
      ]
     },
     "execution_count": 14,
     "metadata": {},
     "output_type": "execute_result"
    }
   ],
   "source": [
    "df.head(5)"
   ]
  },
  {
   "cell_type": "markdown",
   "metadata": {},
   "source": [
    "### Bag of words model in combination with TF-IDF:\n",
    "1. Tokenization of unique words in the whole text\n",
    "2. Construct feature vector for each document and count how often each word occurs\n",
    "3. Assessing relevance of words by downweighting high frequency words using tf-idf"
   ]
  },
  {
   "cell_type": "markdown",
   "metadata": {},
   "source": [
    "#### 1. Processing documents into tokens:\n",
    "- Word Tokensizing: split the text corpora into individual elements separated by white space\n",
    "- Word Stemming: turning words into their root forms allowing us to map related words to each other\n",
    "    - Methods used here is Porter stemming - simplest stemming method (e.g. working -> work). Other methods are snowball and Lancaster which are faster but also more aggressive\n",
    "    - Note: word stemming can create unreal words (e.g. thus -> thu)\n",
    "    - More advanced techniques such as lemmatization aiming to produce grammatically correct (canonical) words, (e.g. better -> good) . Lemmas might not improve performance much more than simple word stemming. Stemming is a lot faster than lemmatizations"
   ]
  },
  {
   "cell_type": "code",
   "execution_count": 42,
   "metadata": {},
   "outputs": [],
   "source": [
    "#### Split text into words separated by white spaces\n",
    "def tokenizer(text):\n",
    "    return text.split()\n",
    "#### Turning words into their root forms with Porter\n",
    "porter = PorterStemmer()\n",
    "def tokenizer_porter(text):\n",
    "    return[porter.stem(word) for word in text.split()]\n",
    "#### Using lemmarisation to find true root of word meaning\n",
    "lemma = WordNetLemmatizer()\n",
    "def tokenizer_lemma(text):\n",
    "    return [lemma.lemmatize(word, pos='a') for word in text.split()]  #### POS - part of speech tag cannot not used algorithmically, here try adjective \n",
    "#### Turning words into their root forms with Porter"
   ]
  },
  {
   "cell_type": "markdown",
   "metadata": {},
   "source": [
    "#### 2. Vectorizing tokens (feature vectors transformation):\n",
    "- Turning tokens into feature vectors\n",
    "- Counting the number of unique words in the entire text and mapping each word in the document to its indices of the vocabulary vector --- Default is 1-gram but can change to more. For spam filtering its likely to be 3-4 (N-gram)\n",
    "- The value in the feature vectors are called raw term frequencies tf(t,d) --- the number of times a term t occurs in a document d\n",
    "- The result of this is a sparse matrix of integers for each review encoding not present (0) / present (# of occurrances) of all stemmed words in the 50k reviews "
   ]
  },
  {
   "cell_type": "markdown",
   "metadata": {},
   "source": [
    "#### 3. Assessing relevance of tokens:\n",
    "- Removing stop-words\n",
    "- TF-IDF: on top of vectorization, a weight can be applied to tokens in order to downweight those frequently occurs in the text (occurs in other reviews)\n",
    "- After this the sparse matrix of vectorised tokens is transformed with downweighed term frequencies \n",
    "- Note: TF-IDF has taken into account stop-words as these words have already been downweighed in the final feature vector"
   ]
  },
  {
   "cell_type": "code",
   "execution_count": 16,
   "metadata": {},
   "outputs": [
    {
     "name": "stdout",
     "output_type": "stream",
     "text": [
      "The number of words in stopword list: 179\n",
      "Example of stopwords ['i', 'me', 'my', 'myself', 'we', 'our', 'ours', 'ourselves', 'you', \"you're\"]\n"
     ]
    }
   ],
   "source": [
    "#### Forming the list of stop words - potentially removed from the analysis words with little meaning\n",
    "stop = stopwords.words(\"english\")\n",
    "print(\"The number of words in stopword list: {:d}\".format(len(stop)))\n",
    "print(\"Example of stopwords {:s}\".format(str(stop[0:10])))"
   ]
  },
  {
   "cell_type": "markdown",
   "metadata": {},
   "source": [
    "## Implementing Logistic Regression "
   ]
  },
  {
   "cell_type": "markdown",
   "metadata": {},
   "source": [
    "#### Splitting dataset into train and test sets"
   ]
  },
  {
   "cell_type": "code",
   "execution_count": 135,
   "metadata": {},
   "outputs": [],
   "source": [
    "x_train,x_test,y_train,y_test = train_test_split(df[\"review\"].values,df[\"sentiment\"].values,test_size=0.5,random_state=100)"
   ]
  },
  {
   "cell_type": "markdown",
   "metadata": {},
   "source": [
    "#### Applying TF-IDF to vectorize and assess word relevance"
   ]
  },
  {
   "cell_type": "code",
   "execution_count": 43,
   "metadata": {},
   "outputs": [],
   "source": [
    "### Vectorisation using tf-idf:\n",
    "### Turning the dataframe of review and label into the dataframe of feature vectors with index based on indexing of vocab and frequency in each doc\n",
    "tfidf = TfidfVectorizer(strip_accents=None,lowercase=False,preprocessor=None)  "
   ]
  },
  {
   "cell_type": "markdown",
   "metadata": {},
   "source": [
    "#### Defining ML algorithms to be tested"
   ]
  },
  {
   "cell_type": "code",
   "execution_count": 44,
   "metadata": {},
   "outputs": [],
   "source": [
    "### Initiate ML algorithm\n",
    "lr = LogisticRegression(random_state=1)\n",
    "\n",
    "pipe = Pipeline([(\"vect\",tfidf),(\"clf\",lr)])\n",
    "##### The following describe 2 algorithms: 1 with normalised tf and the other with raw tf\n",
    "##### Only consider unigram in this exercise,  both cases when stop_words are removed as well as kept in IF-IDF are considered\n",
    "param_grid = [{'vect__ngram_range':[(1,1)],\"vect__stop_words\":[stop,None],\"vect__tokenizer\":[tokenizer,tokenizer_porter,tokenizer_lemma],\n",
    "               'vect__use_idf':[True],'vect__smooth_idf':[True],'vect__norm':[\"l2\"],\n",
    "              \"clf__penalty\":[\"l1\",\"l2\"],\"clf__C\":[1.0,10.0,100],\"clf__max_iter\":[150]}]   ######### Use normalised term frequency\n",
    "#              {'vect__ngram_range':[(1,1)],\"vect__stop_words\":[stop,None],\"vect__tokenizer\":[tokenizer,tokenizer_porter],\n",
    "#               \"vect__use_idf\":[False],\"vect__norm\":[None], ######## Use the raw term frequencies without log and d transformation\n",
    "#               \"clf__penalty\":[\"l1\",\"l2\"],\"clf__C\":[1.0,10.0,100.0]}]"
   ]
  },
  {
   "cell_type": "code",
   "execution_count": 45,
   "metadata": {
    "scrolled": true
   },
   "outputs": [
    {
     "name": "stdout",
     "output_type": "stream",
     "text": [
      "All parameters of steps included in the pipeline:\n"
     ]
    },
    {
     "data": {
      "text/plain": [
       "{'memory': None,\n",
       " 'steps': [('vect', TfidfVectorizer(lowercase=False)),\n",
       "  ('clf', LogisticRegression(random_state=1))],\n",
       " 'verbose': False,\n",
       " 'vect': TfidfVectorizer(lowercase=False),\n",
       " 'clf': LogisticRegression(random_state=1),\n",
       " 'vect__analyzer': 'word',\n",
       " 'vect__binary': False,\n",
       " 'vect__decode_error': 'strict',\n",
       " 'vect__dtype': numpy.float64,\n",
       " 'vect__encoding': 'utf-8',\n",
       " 'vect__input': 'content',\n",
       " 'vect__lowercase': False,\n",
       " 'vect__max_df': 1.0,\n",
       " 'vect__max_features': None,\n",
       " 'vect__min_df': 1,\n",
       " 'vect__ngram_range': (1, 1),\n",
       " 'vect__norm': 'l2',\n",
       " 'vect__preprocessor': None,\n",
       " 'vect__smooth_idf': True,\n",
       " 'vect__stop_words': None,\n",
       " 'vect__strip_accents': None,\n",
       " 'vect__sublinear_tf': False,\n",
       " 'vect__token_pattern': '(?u)\\\\b\\\\w\\\\w+\\\\b',\n",
       " 'vect__tokenizer': None,\n",
       " 'vect__use_idf': True,\n",
       " 'vect__vocabulary': None,\n",
       " 'clf__C': 1.0,\n",
       " 'clf__class_weight': None,\n",
       " 'clf__dual': False,\n",
       " 'clf__fit_intercept': True,\n",
       " 'clf__intercept_scaling': 1,\n",
       " 'clf__l1_ratio': None,\n",
       " 'clf__max_iter': 100,\n",
       " 'clf__multi_class': 'auto',\n",
       " 'clf__n_jobs': None,\n",
       " 'clf__penalty': 'l2',\n",
       " 'clf__random_state': 1,\n",
       " 'clf__solver': 'lbfgs',\n",
       " 'clf__tol': 0.0001,\n",
       " 'clf__verbose': 0,\n",
       " 'clf__warm_start': False}"
      ]
     },
     "execution_count": 45,
     "metadata": {},
     "output_type": "execute_result"
    }
   ],
   "source": [
    "print(\"All parameters of steps included in the pipeline:\")\n",
    "pipe.get_params()"
   ]
  },
  {
   "cell_type": "markdown",
   "metadata": {},
   "source": [
    "#### Using gridsearchCV to find the combination of hyperparameters with highest accuracy:\n",
    "- Each hyperparameter set is validated using KFold"
   ]
  },
  {
   "cell_type": "code",
   "execution_count": 51,
   "metadata": {},
   "outputs": [
    {
     "name": "stdout",
     "output_type": "stream",
     "text": [
      "Fitting 3 folds for each of 36 candidates, totalling 108 fits\n"
     ]
    },
    {
     "name": "stderr",
     "output_type": "stream",
     "text": [
      "C:\\ProgramData\\Anaconda3\\lib\\site-packages\\sklearn\\model_selection\\_search.py:918: UserWarning: One or more of the test scores are non-finite: [       nan        nan        nan        nan        nan        nan\n",
      " 0.88575988 0.88455984 0.88467988 0.88555985 0.88387979 0.88339985\n",
      "        nan        nan        nan        nan        nan        nan\n",
      " 0.88808002 0.88459989 0.88640007 0.89179989 0.88747984 0.89083988\n",
      "        nan        nan        nan        nan        nan        nan\n",
      " 0.8825201  0.87307991 0.88048011 0.88507998 0.87727986 0.88467999]\n",
      "  warnings.warn(\n"
     ]
    },
    {
     "name": "stdout",
     "output_type": "stream",
     "text": [
      "Wall time: 22min 43s\n"
     ]
    },
    {
     "data": {
      "text/plain": [
       "GridSearchCV(cv=3,\n",
       "             estimator=Pipeline(steps=[('vect',\n",
       "                                        TfidfVectorizer(lowercase=False)),\n",
       "                                       ('clf',\n",
       "                                        LogisticRegression(random_state=1))]),\n",
       "             n_jobs=-1,\n",
       "             param_grid=[{'clf__C': [1.0, 10.0, 100], 'clf__max_iter': [150],\n",
       "                          'clf__penalty': ['l1', 'l2'],\n",
       "                          'vect__ngram_range': [(1, 1)], 'vect__norm': ['l2'],\n",
       "                          'vect__smooth_idf': [True],\n",
       "                          'vect__stop_words': [['i', 'me', 'my', 'myself', 'we',...\n",
       "                                                \"you'll\", \"you'd\", 'your',\n",
       "                                                'yours', 'yourself',\n",
       "                                                'yourselves', 'he', 'him',\n",
       "                                                'his', 'himself', 'she',\n",
       "                                                \"she's\", 'her', 'hers',\n",
       "                                                'herself', 'it', \"it's\", 'its',\n",
       "                                                'itself', ...],\n",
       "                                               None],\n",
       "                          'vect__tokenizer': [<function tokenizer at 0x0000018C3979F1F0>,\n",
       "                                              <function tokenizer_porter at 0x0000018C3979F280>,\n",
       "                                              <function tokenizer_lemma at 0x0000018C2AFDCE50>],\n",
       "                          'vect__use_idf': [True]}],\n",
       "             scoring='accuracy', verbose=1)"
      ]
     },
     "execution_count": 51,
     "metadata": {},
     "output_type": "execute_result"
    }
   ],
   "source": [
    "%%time\n",
    "kf = KFold(n_splits=3,shuffle=True,random_state=42)\n",
    "lr_tfidf = GridSearchCV(pipe,param_grid=param_grid,scoring=\"accuracy\",cv=kf,verbose=1,n_jobs=-1)\n",
    "lr_tfidf.fit(x_train,y_train)\n",
    "#### Issues with nan might arise due to different feature vectors appear for the training vs validation set"
   ]
  },
  {
   "cell_type": "code",
   "execution_count": 52,
   "metadata": {},
   "outputs": [
    {
     "name": "stdout",
     "output_type": "stream",
     "text": [
      "Hyperparameters of best algorithm:\n"
     ]
    },
    {
     "data": {
      "text/plain": [
       "{'clf__C': 10.0,\n",
       " 'clf__max_iter': 150,\n",
       " 'clf__penalty': 'l2',\n",
       " 'vect__ngram_range': (1, 1),\n",
       " 'vect__norm': 'l2',\n",
       " 'vect__smooth_idf': True,\n",
       " 'vect__stop_words': None,\n",
       " 'vect__tokenizer': <function __main__.tokenizer(text)>,\n",
       " 'vect__use_idf': True}"
      ]
     },
     "execution_count": 52,
     "metadata": {},
     "output_type": "execute_result"
    }
   ],
   "source": [
    "print(\"Hyperparameters of best algorithm:\")\n",
    "lr_tfidf.best_params_"
   ]
  },
  {
   "cell_type": "code",
   "execution_count": 53,
   "metadata": {},
   "outputs": [
    {
     "name": "stdout",
     "output_type": "stream",
     "text": [
      "Best cross validation accuracy score: 0.892\n"
     ]
    }
   ],
   "source": [
    "print(\"Best cross validation accuracy score: %.3f\" % lr_tfidf.best_score_)"
   ]
  },
  {
   "cell_type": "markdown",
   "metadata": {},
   "source": [
    "#### Select the hyperparameter set giving highest accuracy to evaluate the model on test set"
   ]
  },
  {
   "cell_type": "code",
   "execution_count": 54,
   "metadata": {},
   "outputs": [
    {
     "name": "stdout",
     "output_type": "stream",
     "text": [
      "Accuracy of the test set: 0.900\n"
     ]
    }
   ],
   "source": [
    "###### Choosing the hyperparameter of best algorithm to test\n",
    "clf_final = lr_tfidf.best_estimator_\n",
    "print(\"Accuracy of the test set: %.3f\" %clf_final.score(x_test,y_test))"
   ]
  },
  {
   "cell_type": "markdown",
   "metadata": {},
   "source": [
    "Conclusion: an accuracy score of 90% was achieved with Logistic Regression where C = 10 and an unigram consideration. In terms of text processing, not removing stop-words and a simple tokenizers without stemming and lemmatisation gave the best result"
   ]
  },
  {
   "cell_type": "markdown",
   "metadata": {},
   "source": [
    "## Implementing out of core classification - reducing run time esp. useful for big datasets\n",
    "- Suitable for data that does not fit into main memory\n",
    "- Make use of online classifiers, i.e. classifiers that support partial_fit method --- incremental fit on a batch of samples\n",
    "- Make use of HashingVectorizer --- ensure to project each example into the same feature space even if new features (words) may appear in each batch"
   ]
  },
  {
   "cell_type": "code",
   "execution_count": 110,
   "metadata": {},
   "outputs": [],
   "source": [
    "def tokenizer_updated(text,stop=True,method=None):\n",
    "    # import nltk\n",
    "    # nltk.download(\"stopwords\")\n",
    "    # from nltk.stem.porter import PorterStemmer\n",
    "    # from nltk.stem import WordNetLemmatizer\n",
    "    # from nltk.corpus import stopwords\n",
    "    \"\"\"Function used to tokenize docs \n",
    "    \n",
    "    Parameters:\n",
    "    --------------\n",
    "    method: {None: only split docs into words using white space, \"porter\": Using porter stemming, \"lemma\": use lemmarisation}\n",
    "    stop: {None: no stop word removed, stop_list: list of stop words to be removed}\n",
    "    \n",
    "    Returns:\n",
    "    --------------\n",
    "    review, label \n",
    "    \"\"\"\n",
    "    porter = PorterStemmer()\n",
    "    lemma = WordNetLemmatizer()\n",
    "    stop_list = stopwords.words(\"english\")\n",
    "    if stop == False:\n",
    "        token_1 = [w for w in text.split()]\n",
    "    else:\n",
    "        token_1 = [w for w in text.split() if w not in stop_list]\n",
    "    if method == None:\n",
    "        return token_1\n",
    "    elif method == \"porter\": \n",
    "        return [porter.stem(word) for word in token_1]\n",
    "    elif method == \"lemma\": \n",
    "        return [lemma.lemmatize(word, pos='a') for word in text.split()] #### POS - part of speech tag cannot not used algorithmically, here try adjective "
   ]
  },
  {
   "cell_type": "code",
   "execution_count": 102,
   "metadata": {},
   "outputs": [],
   "source": [
    "##### Define a minibatch function which takes a document stream and return a parituclar number of documents specified by size parameter\n",
    "##### Execution of try and except. When an exception rule is met, return something else\n",
    "def get_minibatch(all_docs,size):\n",
    "    docs,y=[],[]\n",
    "    try:\n",
    "        for _ in range(size):\n",
    "            doc = next(all_docs)\n",
    "            text,label = doc[0],doc[1]\n",
    "            docs.append(text)\n",
    "            y.append(label)\n",
    "#             print(text,label)\n",
    "    except StopIteration:\n",
    "            return None, None\n",
    "    return docs, y"
   ]
  },
  {
   "cell_type": "markdown",
   "metadata": {},
   "source": [
    "#### Hashing trick"
   ]
  },
  {
   "cell_type": "code",
   "execution_count": 131,
   "metadata": {},
   "outputs": [],
   "source": [
    "vect = HashingVectorizer(decode_error=\"ignore\",n_features =2**18,preprocessor=None,tokenizer=tokenizer_updated) # # of features large to reduce hash collisions but increase # of coef in LR"
   ]
  },
  {
   "cell_type": "markdown",
   "metadata": {},
   "source": [
    "#### Define list of partial_fit_classifiers to be tested"
   ]
  },
  {
   "cell_type": "code",
   "execution_count": 149,
   "metadata": {},
   "outputs": [],
   "source": [
    "partial_fit_classifiers = {\n",
    "    \"SGD\": SGDClassifier(loss=\"log\",max_iter=5,random_state=1),\n",
    "    \"Perceptron\": Perceptron(),\n",
    "#     \"NB Multinomial\": MultinomialNB(alpha=0.01),\n",
    "    \"Passive-Aggressive\": PassiveAggressiveClassifier(),\n",
    "}"
   ]
  },
  {
   "cell_type": "markdown",
   "metadata": {},
   "source": [
    "#### Train / test split and transformation"
   ]
  },
  {
   "cell_type": "code",
   "execution_count": 218,
   "metadata": {},
   "outputs": [],
   "source": [
    "#### Need to rerun this cell first if want to rerun the cells below\n",
    "x_train,x_test,y_train,y_test = train_test_split(df[\"review\"].values,df[\"sentiment\"].values,test_size=0.1,random_state=100)\n",
    "all_docs = zip(x_train,y_train)"
   ]
  },
  {
   "cell_type": "markdown",
   "metadata": {},
   "source": [
    "#### Defining stats summary"
   ]
  },
  {
   "cell_type": "code",
   "execution_count": 219,
   "metadata": {},
   "outputs": [],
   "source": [
    "#### Define a library summarizing the result of each batch from various classifier \n",
    "cls_stats = {}\n",
    "for cls_name in partial_fit_classifiers:\n",
    "    #### Each classifier is associated with a dictionary of stat metrics to track\n",
    "    stats = {\n",
    "        \"n_train\": 0,      ##### number of training docs\n",
    "        \"n_train_pos\": 0,  ##### number of label positive in training docs\n",
    "        \"accuracy\": 0.0,   ##### accuracy\n",
    "        \"accuracy_history\": [(0, 0)], \n",
    "        \"t0\": time.time(),\n",
    "        \"runtime_history\": [(0, 0)],  #### show the number of docs processed per second\n",
    "        \"total_fit_time\": 0.0,\n",
    "    }\n",
    "    cls_stats[cls_name] = stats\n",
    "\n",
    "# Test set accuracy stats\n",
    "test_stats = {\"n_test\": 0, \"n_test_pos\": 0}\n",
    "\n",
    "n_test_documents = x_test.shape[0]\n",
    "tick = time.time()\n",
    "\n",
    "x_test_new = vect.transform(x_test)\n",
    "\n",
    "vectorizing_time = time.time() - tick\n",
    "test_stats[\"n_test\"] += len(y_test)\n",
    "test_stats[\"n_test_pos\"] += sum(y_test)\n",
    "# print(\"Test set is %d documents (%d positive)\" % (len(y_test), sum(y_test)))\n",
    "\n",
    "def show_progress(cls_name, stats):\n",
    "    \"\"\"Report progress information, return a string.\"\"\"\n",
    "    duration = time.time() - stats[\"t0\"]\n",
    "    s = \"{:25s} classifier : \\t\".format(cls_name)\n",
    "    s += \"{n_train:6d} train docs {n_train_pos:6d} positive) \".format(n_train=stats[\"n_train\"],n_train_pos=stats[\"n_train_pos\"])\n",
    "    s += \"{n_test:6d} test docs {n_test_pos:6d} positive) \".format(n_test=test_stats[\"n_test\"],n_test_pos=test_stats[\"n_test_pos\"])\n",
    "    s += \"accuracy: {:.3f} \".format(stats[\"accuracy\"])\n",
    "    s += \"in {:.2f} {:.0f} docs/s)\".format(duration, stats[\"n_train\"] / duration)\n",
    "    ##### Return a string with classifier name and its associated stats\n",
    "    return s"
   ]
  },
  {
   "cell_type": "code",
   "execution_count": 220,
   "metadata": {},
   "outputs": [
    {
     "name": "stdout",
     "output_type": "stream",
     "text": [
      "SGD                       classifier : \t  5000 train docs   2488 positive)   5000 test docs   2517 positive) accuracy: 0.869 in 22.28 224 docs/s)\n",
      "Perceptron                classifier : \t  5000 train docs   2488 positive)   5000 test docs   2517 positive) accuracy: 0.855 in 22.29 224 docs/s)\n",
      "Passive-Aggressive        classifier : \t  5000 train docs   2488 positive)   5000 test docs   2517 positive) accuracy: 0.874 in 22.29 224 docs/s)\n",
      "\n",
      "\n",
      "SGD                       classifier : \t 15000 train docs   7467 positive)   5000 test docs   2517 positive) accuracy: 0.869 in 27.93 537 docs/s)\n",
      "Perceptron                classifier : \t 15000 train docs   7467 positive)   5000 test docs   2517 positive) accuracy: 0.854 in 27.94 537 docs/s)\n",
      "Passive-Aggressive        classifier : \t 15000 train docs   7467 positive)   5000 test docs   2517 positive) accuracy: 0.881 in 27.95 537 docs/s)\n",
      "\n",
      "\n",
      "SGD                       classifier : \t 25000 train docs  12467 positive)   5000 test docs   2517 positive) accuracy: 0.870 in 33.56 745 docs/s)\n",
      "Perceptron                classifier : \t 25000 train docs  12467 positive)   5000 test docs   2517 positive) accuracy: 0.868 in 33.56 745 docs/s)\n",
      "Passive-Aggressive        classifier : \t 25000 train docs  12467 positive)   5000 test docs   2517 positive) accuracy: 0.887 in 33.57 745 docs/s)\n",
      "\n",
      "\n",
      "SGD                       classifier : \t 35000 train docs  17456 positive)   5000 test docs   2517 positive) accuracy: 0.867 in 39.17 894 docs/s)\n",
      "Perceptron                classifier : \t 35000 train docs  17456 positive)   5000 test docs   2517 positive) accuracy: 0.861 in 39.17 893 docs/s)\n",
      "Passive-Aggressive        classifier : \t 35000 train docs  17456 positive)   5000 test docs   2517 positive) accuracy: 0.885 in 39.18 893 docs/s)\n",
      "\n",
      "\n",
      "SGD                       classifier : \t 45000 train docs  22483 positive)   5000 test docs   2517 positive) accuracy: 0.869 in 45.80 983 docs/s)\n",
      "Perceptron                classifier : \t 45000 train docs  22483 positive)   5000 test docs   2517 positive) accuracy: 0.863 in 45.80 982 docs/s)\n",
      "Passive-Aggressive        classifier : \t 45000 train docs  22483 positive)   5000 test docs   2517 positive) accuracy: 0.878 in 45.81 982 docs/s)\n",
      "\n",
      "\n"
     ]
    }
   ],
   "source": [
    "import pyprind\n",
    "pbar=pyprind.ProgBar(int(x_train.shape[0]))\n",
    "classes =np.array([0,1])\n",
    "\n",
    "batch_size = 5000\n",
    "total_vect_time = 0.0\n",
    "num_batches = int(x_train.shape[0]/batch_size)\n",
    "\n",
    "for i in range(num_batches):\n",
    "    tick = time.time()  #### time at the start of running the batch\n",
    "    x_train_mini,y_train_mini = get_minibatch(all_docs,size=batch_size)\n",
    "    if not x_train_mini:  ##### if x_train_mini is empty\n",
    "        break\n",
    "        \n",
    "    #### Hashvectoring the training dataset\n",
    "    x_train_mini = vect.transform(x_train_mini)\n",
    "    total_vect_time += time.time() - tick\n",
    "    \n",
    "    #### Partial_fit with different classifiers\n",
    "    for cls_name, cls in partial_fit_classifiers.items():\n",
    "        tick = time.time()\n",
    "        # update estimator with examples in the current mini-batch\n",
    "        cls.partial_fit(x_train_mini, y_train_mini, classes=classes)\n",
    "\n",
    "        # accumulate test accuracy stats\n",
    "        cls_stats[cls_name][\"total_fit_time\"] += time.time() - tick\n",
    "        cls_stats[cls_name][\"n_train\"] += x_train_mini.shape[0]\n",
    "        cls_stats[cls_name][\"n_train_pos\"] += sum(y_train_mini)\n",
    "        tick = time.time()\n",
    "        cls_stats[cls_name][\"accuracy\"] = cls.score(x_test_new, y_test)\n",
    "        cls_stats[cls_name][\"prediction_time\"] = time.time() - tick  #### time it takes to predict \n",
    "        acc_history = (cls_stats[cls_name][\"accuracy\"], cls_stats[cls_name][\"n_train\"])\n",
    "        cls_stats[cls_name][\"accuracy_history\"].append(acc_history)\n",
    "        run_history = (\n",
    "            cls_stats[cls_name][\"accuracy\"],\n",
    "            total_vect_time + cls_stats[cls_name][\"total_fit_time\"],)\n",
    "        cls_stats[cls_name][\"runtime_history\"].append(run_history)\n",
    "\n",
    "        if i % 2 == 0: ##### print result every 5 minibatch runs\n",
    "            print(show_progress(cls_name, cls_stats[cls_name]))\n",
    "    if i % 2 == 0:\n",
    "        print(\"\\n\")\n",
    "    pbar.update()"
   ]
  },
  {
   "cell_type": "markdown",
   "metadata": {},
   "source": [
    "### Visualisation of out-of-core learning results"
   ]
  },
  {
   "cell_type": "code",
   "execution_count": 224,
   "metadata": {
    "scrolled": true
   },
   "outputs": [
    {
     "data": {
      "image/png": "[encoded data removed]",
      "text/plain": [
       "<Figure size 432x288 with 1 Axes>"
      ]
     },
     "metadata": {
      "needs_background": "light"
     },
     "output_type": "display_data"
    },
    {
     "data": {
      "image/png": "[encoded data removed]",
      "text/plain": [
       "<Figure size 432x288 with 1 Axes>"
      ]
     },
     "metadata": {
      "needs_background": "light"
     },
     "output_type": "display_data"
    },
    {
     "data": {
      "image/png": "[encoded data removed]",
      "text/plain": [
       "<Figure size 432x288 with 1 Axes>"
      ]
     },
     "metadata": {
      "needs_background": "light"
     },
     "output_type": "display_data"
    },
    {
     "data": {
      "image/png": "[encoded data removed]",
      "text/plain": [
       "<Figure size 432x288 with 1 Axes>"
      ]
     },
     "metadata": {
      "needs_background": "light"
     },
     "output_type": "display_data"
    }
   ],
   "source": [
    "def plot_accuracy(x, y, x_legend):\n",
    "    \"\"\"Plot accuracy as a function of x.\"\"\"\n",
    "    x = np.array(x)\n",
    "    y = np.array(y)\n",
    "    plt.title(\"Classification accuracy as a function of %s\" % x_legend)\n",
    "    plt.xlabel(\"%s\" % x_legend)\n",
    "    plt.ylabel(\"Accuracy\")\n",
    "    plt.grid(True)\n",
    "    plt.plot(x, y,marker=\"*\")\n",
    "\n",
    "rcParams[\"legend.fontsize\"] = 10\n",
    "cls_names = list(sorted(cls_stats.keys()))\n",
    "\n",
    "# Plot accuracy evolution\n",
    "plt.figure()\n",
    "for _, stats in sorted(cls_stats.items()):\n",
    "    # Plot accuracy evolution with #examples\n",
    "    accuracy, n_examples = zip(*stats[\"accuracy_history\"])\n",
    "    plot_accuracy(n_examples, accuracy, \"training examples (#)\")\n",
    "    ax = plt.gca()\n",
    "    ax.set_ylim((0.8, 1))\n",
    "plt.legend(cls_names, loc=\"best\")\n",
    "\n",
    "plt.figure()\n",
    "for _, stats in sorted(cls_stats.items()):\n",
    "    # Plot accuracy evolution with runtime\n",
    "    accuracy, runtime = zip(*stats[\"runtime_history\"])\n",
    "    plot_accuracy(runtime, accuracy, \"runtime (s)\")\n",
    "    ax = plt.gca()\n",
    "    ax.set_ylim((0.8, 1))\n",
    "plt.legend(cls_names, loc=\"best\")\n",
    "\n",
    "# Plot fitting times\n",
    "plt.figure()\n",
    "fig = plt.gcf()\n",
    "cls_runtime = [stats[\"total_fit_time\"] for cls_name, stats in sorted(cls_stats.items())]\n",
    "\n",
    "cls_runtime.append(total_vect_time)\n",
    "cls_names.append(\"Vectorization\")\n",
    "bar_colors = [\"b\", \"g\", \"r\", \"c\", \"m\", \"y\"]\n",
    "\n",
    "ax = plt.subplot(111)\n",
    "rectangles = plt.bar(range(len(cls_names)), cls_runtime, width=0.5, color=bar_colors)\n",
    "\n",
    "ax.set_xticks(np.linspace(0, len(cls_names) - 1, len(cls_names)))\n",
    "ax.set_xticklabels(cls_names, fontsize=10)\n",
    "ymax = max(cls_runtime) * 1.2\n",
    "ax.set_ylim((0, ymax))\n",
    "ax.set_ylabel(\"runtime (s)\")\n",
    "ax.set_title(\"Training Times\")\n",
    "\n",
    "\n",
    "def autolabel(rectangles):\n",
    "    \"\"\"attach some text vi autolabel on rectangles.\"\"\"\n",
    "    for rect in rectangles:\n",
    "        height = rect.get_height()\n",
    "        ax.text(\n",
    "            rect.get_x() + rect.get_width() / 2.0,\n",
    "            1.05 * height,\n",
    "            \"%.4f\" % height,\n",
    "            ha=\"center\",\n",
    "            va=\"bottom\",\n",
    "        )\n",
    "        plt.setp(plt.xticks()[1], rotation=30)\n",
    "\n",
    "\n",
    "autolabel(rectangles)\n",
    "plt.tight_layout()\n",
    "plt.show()\n",
    "\n",
    "# Plot prediction times\n",
    "plt.figure()\n",
    "cls_runtime = []\n",
    "cls_names = list(sorted(cls_stats.keys()))\n",
    "for cls_name, stats in sorted(cls_stats.items()):\n",
    "    cls_runtime.append(stats[\"prediction_time\"])\n",
    "cls_runtime.append(vectorizing_time)\n",
    "cls_names.append(\"Hashing\\n+Vect.\")\n",
    "\n",
    "ax = plt.subplot(111)\n",
    "rectangles = plt.bar(range(len(cls_names)), cls_runtime, width=0.5, color=bar_colors)\n",
    "\n",
    "ax.set_xticks(np.linspace(0, len(cls_names) - 1, len(cls_names)))\n",
    "ax.set_xticklabels(cls_names, fontsize=8)\n",
    "plt.setp(plt.xticks()[1], rotation=30)\n",
    "ymax = max(cls_runtime) * 1.2\n",
    "ax.set_ylim((0, ymax))\n",
    "ax.set_ylabel(\"runtime (s)\")\n",
    "ax.set_title(\"Prediction Times (%d instances)\" % n_test_documents)\n",
    "autolabel(rectangles)\n",
    "plt.tight_layout()\n",
    "plt.show()"
   ]
  },
  {
   "cell_type": "markdown",
   "metadata": {},
   "source": [
    "Conclusion: Out-of-core learning gives accuracy of about 0.87, slightly less than GridsearchCV for Logistic Regression but superior in terms of run time"
   ]
  }
 ],
 "metadata": {
  "kernelspec": {
   "display_name": "Python 3",
   "language": "python",
   "name": "python3"
  },
  "language_info": {
   "codemirror_mode": {
    "name": "ipython",
    "version": 3
   },
   "file_extension": ".py",
   "mimetype": "text/x-python",
   "name": "python",
   "nbconvert_exporter": "python",
   "pygments_lexer": "ipython3",
   "version": "3.8.8"
  }
 },
 "nbformat": 4,
 "nbformat_minor": 4
}
